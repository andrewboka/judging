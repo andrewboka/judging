{
 "cells": [
  {
   "cell_type": "code",
   "execution_count": 1,
   "metadata": {
    "collapsed": true
   },
   "outputs": [],
   "source": [
    "import numpy as np\n",
    "import pandas as pd\n",
    "import cv2"
   ]
  },
  {
   "cell_type": "code",
   "execution_count": 2,
   "metadata": {
    "collapsed": true
   },
   "outputs": [],
   "source": [
    "# Global variables\n",
    "\n",
    "video_path = \"Video/Easy/T002_ActionsShorter_mini_11552_12166_Dance-Sing.mp4\"\n",
    "retina_csv_path = \"RetinaFaceDetections/Easy/T002_ActionsShorter_mini_11552_12166_Dance-Sing.csv\""
   ]
  },
  {
   "cell_type": "code",
   "execution_count": 3,
   "metadata": {},
   "outputs": [],
   "source": [
    "def returnRetinaDf(retina_csv_path):\n",
    "    \"\"\"\n",
    "    Read retina detections csv file into dataframe\n",
    "    \n",
    "    Input: file path to csv\n",
    "    \"\"\"\n",
    "    retina_df = pd.read_csv(retina_csv_path)\n",
    "    retina_df = retina_df[[\"x\", \"y\", \"w\", \"h\"]]\n",
    "    return retina_df"
   ]
  },
  {
   "cell_type": "code",
   "execution_count": 4,
   "metadata": {},
   "outputs": [
    {
     "data": {
      "text/html": [
       "<div>\n",
       "<style scoped>\n",
       "    .dataframe tbody tr th:only-of-type {\n",
       "        vertical-align: middle;\n",
       "    }\n",
       "\n",
       "    .dataframe tbody tr th {\n",
       "        vertical-align: top;\n",
       "    }\n",
       "\n",
       "    .dataframe thead th {\n",
       "        text-align: right;\n",
       "    }\n",
       "</style>\n",
       "<table border=\"1\" class=\"dataframe\">\n",
       "  <thead>\n",
       "    <tr style=\"text-align: right;\">\n",
       "      <th></th>\n",
       "      <th>x</th>\n",
       "      <th>y</th>\n",
       "      <th>w</th>\n",
       "      <th>h</th>\n",
       "    </tr>\n",
       "  </thead>\n",
       "  <tbody>\n",
       "    <tr>\n",
       "      <th>0</th>\n",
       "      <td>164.107300</td>\n",
       "      <td>66.408592</td>\n",
       "      <td>135.621979</td>\n",
       "      <td>180.596283</td>\n",
       "    </tr>\n",
       "    <tr>\n",
       "      <th>1</th>\n",
       "      <td>164.009872</td>\n",
       "      <td>65.886246</td>\n",
       "      <td>135.752701</td>\n",
       "      <td>181.113007</td>\n",
       "    </tr>\n",
       "    <tr>\n",
       "      <th>2</th>\n",
       "      <td>164.514114</td>\n",
       "      <td>66.950378</td>\n",
       "      <td>135.537827</td>\n",
       "      <td>180.016693</td>\n",
       "    </tr>\n",
       "    <tr>\n",
       "      <th>3</th>\n",
       "      <td>164.875748</td>\n",
       "      <td>67.175591</td>\n",
       "      <td>135.459274</td>\n",
       "      <td>179.871582</td>\n",
       "    </tr>\n",
       "    <tr>\n",
       "      <th>4</th>\n",
       "      <td>164.988770</td>\n",
       "      <td>67.111977</td>\n",
       "      <td>135.418457</td>\n",
       "      <td>180.024536</td>\n",
       "    </tr>\n",
       "  </tbody>\n",
       "</table>\n",
       "</div>"
      ],
      "text/plain": [
       "            x          y           w           h\n",
       "0  164.107300  66.408592  135.621979  180.596283\n",
       "1  164.009872  65.886246  135.752701  181.113007\n",
       "2  164.514114  66.950378  135.537827  180.016693\n",
       "3  164.875748  67.175591  135.459274  179.871582\n",
       "4  164.988770  67.111977  135.418457  180.024536"
      ]
     },
     "execution_count": 4,
     "metadata": {},
     "output_type": "execute_result"
    }
   ],
   "source": [
    "retina_df = returnRetinaDf(retina_csv_path)\n",
    "retina_df.head(5)"
   ]
  },
  {
   "cell_type": "code",
   "execution_count": 5,
   "metadata": {
    "collapsed": true
   },
   "outputs": [],
   "source": [
    "# example submission \n",
    "def pixelate(img, size):\n",
    "    height, width = img.shape[:2]\n",
    "    w, h = (size, size)\n",
    "    temp = cv2.resize(img, (w, h), interpolation=cv2.INTER_LINEAR)\n",
    "    output = cv2.resize(temp, (width, height), interpolation=cv2.INTER_NEAREST)\n",
    "    return output"
   ]
  },
  {
   "cell_type": "code",
   "execution_count": 6,
   "metadata": {
    "collapsed": true
   },
   "outputs": [],
   "source": [
    "# example submission\n",
    "def sharpen_avg(img):\n",
    "    # sharpening filter\n",
    "    img = cv2.addWeighted(img, 4, cv2.blur(img, (30, 30)), -4, 128)\n",
    "    # averaging kernel; apply vertical kernel, then horizontal kernel\n",
    "    img = cv2.blur(img, (20, 10))\n",
    "    img = cv2.blur(img, (10, 20))\n",
    "    return img"
   ]
  },
  {
   "cell_type": "code",
   "execution_count": 7,
   "metadata": {
    "collapsed": true
   },
   "outputs": [],
   "source": [
    "# example submissions\n",
    "def median_avg(img):\n",
    "    # median avg filter\n",
    "    return cv2.medianBlur(img, 27)\n"
   ]
  },
  {
   "cell_type": "code",
   "execution_count": 8,
   "metadata": {},
   "outputs": [],
   "source": [
    "def returnDataMatrix(video_path):\n",
    "    \n",
    "    \"\"\"\n",
    "    Takes in video path and returns data matrix\n",
    "    \"\"\"\n",
    "    \n",
    "    cap = cv2.VideoCapture(video_path)\n",
    "    frame_counter = 0\n",
    "\n",
    "    data_matrix = []\n",
    "    \n",
    "    ##### Remove this ##################################################################\n",
    "    pixelated_matrix = []\n",
    "    sharpen_blur_matrix = []\n",
    "    median_matrix = []\n",
    "    ###################################################################################\n",
    "\n",
    "    while cap.isOpened():\n",
    "\n",
    "        ret,frame = cap.read()\n",
    "        if frame is None:\n",
    "            break\n",
    "\n",
    "\n",
    "        x = int(retina_df[\"x\"][frame_counter])\n",
    "        y = int(retina_df[\"y\"][frame_counter])\n",
    "        l = max(int(retina_df[\"w\"][frame_counter]), int(retina_df[\"h\"][frame_counter]))\n",
    "\n",
    "        frame = frame[y:y + l, x: x + l]\n",
    "        frame = cv2.resize(frame, (224, 224), interpolation = cv2.INTER_AREA)\n",
    "        \n",
    "        ##### Remove this #############################################################################\n",
    "        pixelated_frame = pixelate(frame, 65)\n",
    "        sharpen_blur_frame = sharpen_avg(frame)\n",
    "        median_frame = median_avg(frame)\n",
    "        #cv2.imwrite(\"pixelated.jpg\", pixelated_frame)\n",
    "        #cv2.imwrite(\"sharpen_blur.jpg\", sharpen_blur_frame)\n",
    "        #cv2.imwrite(\"median.jpg\", median_frame)\n",
    "        ##############################################################################################\n",
    "        \n",
    "        \n",
    "        frame = cv2.cvtColor(frame, cv2.COLOR_BGR2GRAY)\n",
    "        frame = [j for i in frame for j in i]\n",
    "        \n",
    "        ##### Remove this #############################################################################\n",
    "        pixelated_frame = cv2.cvtColor(pixelated_frame, cv2.COLOR_BGR2GRAY)\n",
    "        #cv2.imwrite(\"bw_pixelated.jpg\", pixelated_frame)\n",
    "        pixelated_frame = [j for i in pixelated_frame for j in i]\n",
    "        \n",
    "        sharpen_blur_frame = cv2.cvtColor(sharpen_blur_frame, cv2.COLOR_BGR2GRAY)\n",
    "        #cv2.imwrite(\"bw_sharpen_blur.jpg\", sharpen_blur_frame)\n",
    "        sharpen_blur_frame = [j for i in sharpen_blur_frame for j in i]\n",
    "        \n",
    "        median_frame = cv2.cvtColor(median_frame, cv2.COLOR_BGR2GRAY)\n",
    "        #cv2.imwrite(\"bw_median.jpg\", median_frame)\n",
    "        median_frame = [j for i in median_frame for j in i]\n",
    "        ##############################################################################################\n",
    "\n",
    "        data_matrix.append(frame)\n",
    "        \n",
    "        ##### Remove this #############################################################################\n",
    "        pixelated_matrix.append(pixelated_frame)\n",
    "        sharpen_blur_matrix.append(sharpen_blur_frame)\n",
    "        median_matrix.append(median_frame)\n",
    "        ##############################################################################################\n",
    "\n",
    "        frame_counter += 1\n",
    "\n",
    "\n",
    "    cap.release()\n",
    "\n",
    "    data_matrix = np.array(data_matrix)\n",
    "    #### Remove this ###########################\n",
    "    pixelated_matrix = np.array(pixelated_matrix)\n",
    "    sharpen_blur_matrix = np.array(sharpen_blur_matrix)\n",
    "    median_matrix = np.array(median_matrix)\n",
    "    #######################################################\n",
    "    return data_matrix, pixelated_matrix, sharpen_blur_matrix, median_matrix # change to: return data_matrix"
   ]
  },
  {
   "cell_type": "code",
   "execution_count": 9,
   "metadata": {},
   "outputs": [],
   "source": [
    "data_matrix, pixelated_matrix, sharpen_blur_matrix, median_matrix = returnDataMatrix(video_path)"
   ]
  },
  {
   "cell_type": "code",
   "execution_count": 10,
   "metadata": {},
   "outputs": [
    {
     "data": {
      "text/plain": [
       "(660, 50176)"
      ]
     },
     "execution_count": 10,
     "metadata": {},
     "output_type": "execute_result"
    }
   ],
   "source": [
    "data_matrix.shape"
   ]
  },
  {
   "cell_type": "code",
   "execution_count": 11,
   "metadata": {},
   "outputs": [
    {
     "data": {
      "text/plain": [
       "(660, 50176)"
      ]
     },
     "execution_count": 11,
     "metadata": {},
     "output_type": "execute_result"
    }
   ],
   "source": [
    "pixelated_matrix.shape"
   ]
  },
  {
   "cell_type": "code",
   "execution_count": 12,
   "metadata": {},
   "outputs": [
    {
     "data": {
      "text/plain": [
       "(660, 50176)"
      ]
     },
     "execution_count": 12,
     "metadata": {},
     "output_type": "execute_result"
    }
   ],
   "source": [
    "sharpen_blur_matrix.shape"
   ]
  },
  {
   "cell_type": "code",
   "execution_count": 13,
   "metadata": {},
   "outputs": [
    {
     "data": {
      "text/plain": [
       "(660, 50176)"
      ]
     },
     "execution_count": 13,
     "metadata": {},
     "output_type": "execute_result"
    }
   ],
   "source": [
    "median_matrix.shape"
   ]
  },
  {
   "cell_type": "code",
   "execution_count": 23,
   "metadata": {
    "collapsed": true
   },
   "outputs": [],
   "source": [
    "from sklearn.decomposition import PCA\n",
    "from sklearn.decomposition import SparsePCA\n",
    "from sklearn.decomposition import TruncatedSVD"
   ]
  },
  {
   "cell_type": "code",
   "execution_count": 34,
   "metadata": {
    "collapsed": true
   },
   "outputs": [],
   "source": [
    "def pca_error(matrix, de_identified_matrix):\n",
    "    \n",
    "    \"\"\"\n",
    "    matrix: corresponds to original video\n",
    "    de_identified_matrix: correponds to de-identified video\n",
    "    \"\"\"\n",
    "    \n",
    "    pca = PCA(n_components=min(matrix.shape[0], matrix.shape[1]), svd_solver='full')\n",
    "    pca.fit(matrix)\n",
    "    \n",
    "    dim_data_matrix = pca.transform(matrix)\n",
    "    dim_de_identified_matrix = pca.transform(de_identified_matrix)\n",
    "    \n",
    "    return np.linalg.norm(dim_de_identified_matrix - dim_data_matrix)  "
   ]
  },
  {
   "cell_type": "code",
   "execution_count": 35,
   "metadata": {},
   "outputs": [
    {
     "name": "stdout",
     "output_type": "stream",
     "text": [
      "pixelated error: 35153.80663509222\n",
      "sharpen blur error: 211614.6274278321\n",
      "median error: 67324.27743337234\n"
     ]
    }
   ],
   "source": [
    "print(\"pixelated error: \" + str(pca_error(data_matrix, pixelated_matrix)))\n",
    "print(\"sharpen blur error: \" + str(pca_error(data_matrix, sharpen_blur_matrix)))\n",
    "print(\"median error: \" + str(pca_error(data_matrix, median_matrix)))"
   ]
  },
  {
   "cell_type": "code",
   "execution_count": 32,
   "metadata": {},
   "outputs": [],
   "source": [
    "def sparse_pca_error(matrix, matrix1, matrix2, matrix3):\n",
    "    \n",
    "    \"\"\"\n",
    "    matrix: corresponds to original video\n",
    "    matrix1, matrix2, matrix3, .... : correspond to de-identified videos\n",
    "    \"\"\"\n",
    "    \n",
    "    svd = TruncatedSVD(n_components = int(min(matrix.shape[0], matrix.shape[1]) * 0.75))\n",
    "    svd.fit(matrix)\n",
    "    matrix = svd.transform(matrix)\n",
    "    print(matrix.shape)\n",
    "    \n",
    "    sparse_pca = SparsePCA(n_components = 5, alpha=1.5)\n",
    "    sparse_pca.fit(matrix)\n",
    "    dim_data_matrix = sparse_pca.transform(matrix)\n",
    "    \n",
    "    def compute_error(de_identified_matrix):\n",
    "        \n",
    "        svd = TruncatedSVD(n_components = int(min(de_identified_matrix.shape[0], de_identified_matrix.shape[1]) * 0.75))\n",
    "        svd.fit(de_identified_matrix)\n",
    "        de_identified_matrix = svd.transform(de_identified_matrix)\n",
    "        \n",
    "        dim_de_identified_matrix = sparse_pca.transform(de_identified_matrix)\n",
    "\n",
    "        return np.linalg.norm(dim_de_identified_matrix-dim_data_matrix)\n",
    "    \n",
    "    return compute_error(matrix1), compute_error(matrix2), compute_error(matrix3)"
   ]
  },
  {
   "cell_type": "code",
   "execution_count": 33,
   "metadata": {},
   "outputs": [
    {
     "name": "stdout",
     "output_type": "stream",
     "text": [
      "(660, 495)\n",
      "pixelated error: 2851.4223726982395\n",
      "sharpen blur error: 155355.21643295544\n",
      "median error: 26712.416983700863\n"
     ]
    }
   ],
   "source": [
    "pixelated_error, sharpen_blur_error, median_error = sparse_pca_error(data_matrix, pixelated_matrix, sharpen_blur_matrix, median_matrix)\n",
    "print(\"pixelated error: \" + str(pixelated_error))\n",
    "print(\"sharpen blur error: \" + str(sharpen_blur_error))\n",
    "print(\"median error: \" + str(median_error))"
   ]
  },
  {
   "cell_type": "code",
   "execution_count": null,
   "metadata": {
    "collapsed": true
   },
   "outputs": [],
   "source": []
  }
 ],
 "metadata": {
  "kernelspec": {
   "display_name": "Python 3",
   "language": "python",
   "name": "python3"
  },
  "language_info": {
   "codemirror_mode": {
    "name": "ipython",
    "version": 3
   },
   "file_extension": ".py",
   "mimetype": "text/x-python",
   "name": "python",
   "nbconvert_exporter": "python",
   "pygments_lexer": "ipython3",
   "version": "3.6.7"
  }
 },
 "nbformat": 4,
 "nbformat_minor": 2
}
